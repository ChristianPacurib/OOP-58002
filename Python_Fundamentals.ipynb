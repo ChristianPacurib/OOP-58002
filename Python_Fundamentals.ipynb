{
  "nbformat": 4,
  "nbformat_minor": 0,
  "metadata": {
    "colab": {
      "provenance": [],
      "authorship_tag": "ABX9TyN1Va+8UDavYwWiOfzeUq6/",
      "include_colab_link": true
    },
    "kernelspec": {
      "name": "python3",
      "display_name": "Python 3"
    },
    "language_info": {
      "name": "python"
    }
  },
  "cells": [
    {
      "cell_type": "markdown",
      "metadata": {
        "id": "view-in-github",
        "colab_type": "text"
      },
      "source": [
        "<a href=\"https://colab.research.google.com/github/ChristianPacurib/OOP-58002/blob/main/Python_Fundamentals.ipynb\" target=\"_parent\"><img src=\"https://colab.research.google.com/assets/colab-badge.svg\" alt=\"Open In Colab\"/></a>"
      ]
    },
    {
      "cell_type": "markdown",
      "source": [
        "Python Indentation \n"
      ],
      "metadata": {
        "id": "3CNKWs83wxMj"
      }
    },
    {
      "cell_type": "code",
      "source": [
        "if 5>2:\n",
        "  print(\"Five is Greater than Two\")"
      ],
      "metadata": {
        "colab": {
          "base_uri": "https://localhost:8080/"
        },
        "id": "EZK0DVIFw827",
        "outputId": "4092491b-4ee4-48ca-8d6b-6fd8b1d07d6e"
      },
      "execution_count": 2,
      "outputs": [
        {
          "output_type": "stream",
          "name": "stdout",
          "text": [
            "Five is Greater than Two\n"
          ]
        }
      ]
    },
    {
      "cell_type": "markdown",
      "source": [
        "Python Comment"
      ],
      "metadata": {
        "id": "pgOGF6ZJx66m"
      }
    },
    {
      "cell_type": "code",
      "source": [
        "#This is a comment\n",
        "print(\"Hello, World!\")"
      ],
      "metadata": {
        "colab": {
          "base_uri": "https://localhost:8080/"
        },
        "id": "jQ-6uefwx4Qt",
        "outputId": "75b6378f-d900-4113-ca98-a20a50e4b958"
      },
      "execution_count": 4,
      "outputs": [
        {
          "output_type": "stream",
          "name": "stdout",
          "text": [
            "Hello, World!\n"
          ]
        }
      ]
    },
    {
      "cell_type": "markdown",
      "source": [
        "Naming Variable"
      ],
      "metadata": {
        "id": "nef0ATxoyNb1"
      }
    },
    {
      "cell_type": "code",
      "source": [
        "#Single variable with single value \n",
        "x=1\n",
        "y=2\n",
        "print(x)\n",
        "print(y)\n",
        "\n",
        "#Multiple variables with a single value\n",
        "a = b = c = \"a,b,c's value / Pacurib Christian\"\n",
        "print(a)\n",
        "print(b)\n",
        "print(c)\n",
        "\n",
        "#Multiple variable with multiple values\n",
        "e, f, g=1, 2, 3,\n",
        "print(e)\n",
        "print(f)\n",
        "print(g)\n"
      ],
      "metadata": {
        "colab": {
          "base_uri": "https://localhost:8080/"
        },
        "id": "lLVHu7gsyMxl",
        "outputId": "462fa0cd-ea8d-4c08-e227-8a2805cc7667"
      },
      "execution_count": 13,
      "outputs": [
        {
          "output_type": "stream",
          "name": "stdout",
          "text": [
            "1\n",
            "2\n",
            "a,b,c's value / Pacurib Christian\n",
            "a,b,c's value / Pacurib Christian\n",
            "a,b,c's value / Pacurib Christian\n",
            "1\n",
            "2\n",
            "3\n"
          ]
        }
      ]
    },
    {
      "cell_type": "markdown",
      "source": [
        "Single or Double\n"
      ],
      "metadata": {
        "id": "fuRU7R7A0218"
      }
    },
    {
      "cell_type": "code",
      "source": [
        "v = \"sally\"\n",
        "u = \"sally\"\n",
        "print(u)\n",
        "print(v)"
      ],
      "metadata": {
        "colab": {
          "base_uri": "https://localhost:8080/"
        },
        "id": "L5WmxngA075l",
        "outputId": "007f277e-f03f-4f38-81a2-f93aa42c61e1"
      },
      "execution_count": 14,
      "outputs": [
        {
          "output_type": "stream",
          "name": "stdout",
          "text": [
            "sally\n",
            "sally\n"
          ]
        }
      ]
    },
    {
      "cell_type": "markdown",
      "source": [
        "Casting"
      ],
      "metadata": {
        "id": "aqWAWvzq1MWL"
      }
    },
    {
      "cell_type": "code",
      "source": [
        "p = float(5)\n",
        "p"
      ],
      "metadata": {
        "colab": {
          "base_uri": "https://localhost:8080/"
        },
        "id": "AI1ximjE1N2E",
        "outputId": "8a7c01f9-fe2e-4e65-bb25-46613ff90a97"
      },
      "execution_count": 16,
      "outputs": [
        {
          "output_type": "execute_result",
          "data": {
            "text/plain": [
              "5.0"
            ]
          },
          "metadata": {},
          "execution_count": 16
        }
      ]
    },
    {
      "cell_type": "markdown",
      "source": [
        "Type() Function"
      ],
      "metadata": {
        "id": "zTlSlG4Y15Hs"
      }
    },
    {
      "cell_type": "code",
      "source": [
        "f = \"Ana\"\n",
        "g = 4.56\n",
        "print(type(f))\n",
        "print(type(g))"
      ],
      "metadata": {
        "colab": {
          "base_uri": "https://localhost:8080/"
        },
        "id": "XC5sF23S18Gc",
        "outputId": "831840d1-0efe-414c-e7a7-ab9d85d2f629"
      },
      "execution_count": 18,
      "outputs": [
        {
          "output_type": "stream",
          "name": "stdout",
          "text": [
            "<class 'str'>\n",
            "<class 'float'>\n"
          ]
        }
      ]
    },
    {
      "cell_type": "markdown",
      "source": [
        "Concatelation using + symbol"
      ],
      "metadata": {
        "id": "03VGLSbW26x6"
      }
    },
    {
      "cell_type": "code",
      "source": [
        "k = \"Enjoying\"\n",
        "j = \"Python Programming is \"\n",
        "print(j + k )\n"
      ],
      "metadata": {
        "colab": {
          "base_uri": "https://localhost:8080/"
        },
        "id": "6U4rSij43EC5",
        "outputId": "f0a20bf5-532d-46c2-cdd9-512f284f90fd"
      },
      "execution_count": 25,
      "outputs": [
        {
          "output_type": "stream",
          "name": "stdout",
          "text": [
            "Python Programming is Enjoying\n"
          ]
        }
      ]
    }
  ]
}