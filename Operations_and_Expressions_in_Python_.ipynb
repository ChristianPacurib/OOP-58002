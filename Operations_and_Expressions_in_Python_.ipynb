{
  "nbformat": 4,
  "nbformat_minor": 0,
  "metadata": {
    "colab": {
      "provenance": [],
      "authorship_tag": "ABX9TyO8E1kVsxj6kF7ccVLBWX2n",
      "include_colab_link": true
    },
    "kernelspec": {
      "name": "python3",
      "display_name": "Python 3"
    },
    "language_info": {
      "name": "python"
    }
  },
  "cells": [
    {
      "cell_type": "markdown",
      "metadata": {
        "id": "view-in-github",
        "colab_type": "text"
      },
      "source": [
        "<a href=\"https://colab.research.google.com/github/ChristianPacurib/OOP-58002/blob/main/Operations_and_Expressions_in_Python_.ipynb\" target=\"_parent\"><img src=\"https://colab.research.google.com/assets/colab-badge.svg\" alt=\"Open In Colab\"/></a>"
      ]
    },
    {
      "cell_type": "markdown",
      "source": [
        "Boolean Operators"
      ],
      "metadata": {
        "id": "rCoyrYvly77e"
      }
    },
    {
      "cell_type": "code",
      "source": [
        "print(10>9)\n",
        "print(10<9)\n",
        "print(10==9)"
      ],
      "metadata": {
        "colab": {
          "base_uri": "https://localhost:8080/"
        },
        "id": "h5_fmbjFz4Wt",
        "outputId": "f24329ff-ff04-41b5-dc74-86a3bd2b99ef"
      },
      "execution_count": 3,
      "outputs": [
        {
          "output_type": "stream",
          "name": "stdout",
          "text": [
            "True\n",
            "False\n",
            "False\n"
          ]
        }
      ]
    },
    {
      "cell_type": "code",
      "source": [
        "a = 10\n",
        "b = 9\n",
        "print(a>b)\n",
        "print(a<b)\n",
        "print(a==b)\n",
        "print(b==b)"
      ],
      "metadata": {
        "colab": {
          "base_uri": "https://localhost:8080/"
        },
        "id": "X8AJRxbg0c6M",
        "outputId": "bdc77ba3-7bdb-4378-a881-cce1ac41249f"
      },
      "execution_count": 4,
      "outputs": [
        {
          "output_type": "stream",
          "name": "stdout",
          "text": [
            "True\n",
            "False\n",
            "False\n",
            "True\n"
          ]
        }
      ]
    },
    {
      "cell_type": "markdown",
      "source": [
        "Bool() Function "
      ],
      "metadata": {
        "id": "ikametnM0tfa"
      }
    },
    {
      "cell_type": "code",
      "source": [
        "print(bool(1))\n",
        "print(bool(0))\n",
        "print(bool(\"your mom\"))\n",
        "print(bool(None))\n",
        "print(bool(\"Null\"))"
      ],
      "metadata": {
        "colab": {
          "base_uri": "https://localhost:8080/"
        },
        "id": "qJOC7sG308fk",
        "outputId": "1e4d7fd0-0034-43d7-d645-ca040f0fac84"
      },
      "execution_count": 11,
      "outputs": [
        {
          "output_type": "stream",
          "name": "stdout",
          "text": [
            "True\n",
            "False\n",
            "True\n",
            "False\n",
            "True\n"
          ]
        }
      ]
    },
    {
      "cell_type": "markdown",
      "source": [
        "Funtions can return a Boolean"
      ],
      "metadata": {
        "id": "evcNS4Nu1o-L"
      }
    },
    {
      "cell_type": "code",
      "source": [
        "def myFuntion():\n",
        "  return True\n",
        "\n",
        "print (myFuntion())"
      ],
      "metadata": {
        "colab": {
          "base_uri": "https://localhost:8080/"
        },
        "id": "NVtGTznQ13PL",
        "outputId": "5e9c1fbe-cb3f-4b30-afd1-a14822a4159c"
      },
      "execution_count": 23,
      "outputs": [
        {
          "output_type": "stream",
          "name": "stdout",
          "text": [
            "True\n"
          ]
        }
      ]
    },
    {
      "cell_type": "code",
      "source": [
        "def myFuntion():\n",
        "  return True\n",
        "if myFuntion():\n",
        "  print(\"Yes!\")\n",
        "else:\n",
        "  print(\"No!\")\n",
        "\n"
      ],
      "metadata": {
        "colab": {
          "base_uri": "https://localhost:8080/"
        },
        "id": "re_WHGuV205Y",
        "outputId": "672f98d2-8282-44c4-fff8-3b548080d8b6"
      },
      "execution_count": 22,
      "outputs": [
        {
          "output_type": "stream",
          "name": "stdout",
          "text": [
            "Yes!\n"
          ]
        }
      ]
    },
    {
      "cell_type": "code",
      "source": [
        "a = 6\n",
        "b = 7\n",
        "print(a==b)\n",
        "print(a!=b)"
      ],
      "metadata": {
        "colab": {
          "base_uri": "https://localhost:8080/"
        },
        "id": "1Nd2_MPx3cFo",
        "outputId": "5df5d869-2462-45d2-8946-ecb5491f3d44"
      },
      "execution_count": 24,
      "outputs": [
        {
          "output_type": "stream",
          "name": "stdout",
          "text": [
            "False\n",
            "True\n"
          ]
        }
      ]
    },
    {
      "cell_type": "markdown",
      "source": [
        "Python Operators "
      ],
      "metadata": {
        "id": "q9nACWZE3u7w"
      }
    },
    {
      "cell_type": "code",
      "source": [
        "print(10+5)\n",
        "print(10-5)\n",
        "print(10*5)\n",
        "print(10/5)\n",
        "print(10%3)\n",
        "print(10//5)\n",
        "print(10**5)"
      ],
      "metadata": {
        "colab": {
          "base_uri": "https://localhost:8080/"
        },
        "id": "3-hoQfP834Wf",
        "outputId": "9a7d4fb4-9260-4611-dc4a-5f577d4abea4"
      },
      "execution_count": 32,
      "outputs": [
        {
          "output_type": "stream",
          "name": "stdout",
          "text": [
            "15\n",
            "5\n",
            "50\n",
            "2.0\n",
            "1\n",
            "2\n",
            "100000\n"
          ]
        }
      ]
    },
    {
      "cell_type": "code",
      "source": [
        "a = 60\n",
        "b = 13\n",
        "a<<1\n",
        "print(a<<1)\n",
        "print(a>>1)\n",
        "print(b<<1)\n",
        "print(b>>1)\n"
      ],
      "metadata": {
        "colab": {
          "base_uri": "https://localhost:8080/"
        },
        "id": "s6ws-Pcz75Zn",
        "outputId": "fed1c844-e822-4baa-d901-928f2bcd14be"
      },
      "execution_count": 41,
      "outputs": [
        {
          "output_type": "stream",
          "name": "stdout",
          "text": [
            "120\n",
            "30\n",
            "26\n",
            "6\n"
          ]
        }
      ]
    },
    {
      "cell_type": "markdown",
      "source": [
        "Python Assignment Operators"
      ],
      "metadata": {
        "id": "Wag_fsrn-SFr"
      }
    },
    {
      "cell_type": "code",
      "source": [
        "x = 1\n",
        "x+=3 #same as x=x+3\n",
        "print (x)\n",
        "x = 1\n",
        "x-=3 #same as x=x-3\n",
        "print (x)\n",
        "x = 1\n",
        "x*=3 #same as x=x*3\n",
        "print (x)\n",
        "x = 1\n",
        "x/=3 #same as x=x/3\n",
        "print (x)\n"
      ],
      "metadata": {
        "colab": {
          "base_uri": "https://localhost:8080/"
        },
        "id": "FrVUmkdg-WpM",
        "outputId": "0c4e4820-79a0-4b2d-fc13-ec50656c1df7"
      },
      "execution_count": 44,
      "outputs": [
        {
          "output_type": "stream",
          "name": "stdout",
          "text": [
            "4\n",
            "-2\n",
            "3\n",
            "0.3333333333333333\n"
          ]
        }
      ]
    },
    {
      "cell_type": "markdown",
      "source": [
        "Python Logical Operations "
      ],
      "metadata": {
        "id": "uA6--z76_X1d"
      }
    },
    {
      "cell_type": "code",
      "source": [
        "x = True\n",
        "y = False\n"
      ],
      "metadata": {
        "id": "OVCD0-kd_byt"
      },
      "execution_count": 57,
      "outputs": []
    },
    {
      "cell_type": "code",
      "source": [
        "print(x and y)\n",
        "print(x or y)\n",
        "print(not (x or y) )"
      ],
      "metadata": {
        "colab": {
          "base_uri": "https://localhost:8080/"
        },
        "id": "KhyFMrEOAjKM",
        "outputId": "94c4fe88-55f4-4f6d-fa94-1e099e69f67c"
      },
      "execution_count": 53,
      "outputs": [
        {
          "output_type": "stream",
          "name": "stdout",
          "text": [
            "True\n",
            "True\n",
            "False\n"
          ]
        }
      ]
    },
    {
      "cell_type": "markdown",
      "source": [
        "Python Identity Operators"
      ],
      "metadata": {
        "id": "8pvhe-ZEBB2s"
      }
    },
    {
      "cell_type": "code",
      "source": [
        "print(x is y) \n",
        "print(x is not y)"
      ],
      "metadata": {
        "colab": {
          "base_uri": "https://localhost:8080/"
        },
        "id": "jPUVi5fPBGjk",
        "outputId": "fdfda0bb-9bf2-4bb5-cb44-3899aaeb256a"
      },
      "execution_count": 60,
      "outputs": [
        {
          "output_type": "stream",
          "name": "stdout",
          "text": [
            "False\n",
            "True\n"
          ]
        }
      ]
    },
    {
      "cell_type": "code",
      "source": [
        "x = int(input(\"1st Number \"))\n",
        "p = int(input(\"2nd Number \"))\n",
        "\n",
        "print(x+p)\n",
        "print(x-p)\n",
        "print(x*p)\n",
        "print(x/p)"
      ],
      "metadata": {
        "colab": {
          "base_uri": "https://localhost:8080/"
        },
        "id": "afzJuSRgDyHG",
        "outputId": "43a6ca76-4460-4e62-9fff-9064239bae58"
      },
      "execution_count": 66,
      "outputs": [
        {
          "output_type": "stream",
          "name": "stdout",
          "text": [
            "1st Number 80085\n",
            "2nd Number 69420\n",
            "149505\n",
            "10665\n",
            "5559500700\n",
            "1.1536300777873811\n"
          ]
        }
      ]
    },
    {
      "cell_type": "code",
      "source": [
        "def calculator():\n",
        "    while True:\n",
        "        print(\"\\nEnter an operation (+, -, *, /, or q to quit): \")\n",
        "        user_input = input()\n",
        "\n",
        "        if user_input == \"q\":\n",
        "            break\n",
        "        elif user_input in [\"+\", \"-\", \"*\", \"/\"]:\n",
        "            num1 = float(input(\"Enter a number: \"))\n",
        "            num2 = float(input(\"Enter another number: \"))\n",
        "            if user_input == \"+\":\n",
        "                result = num1 + num2\n",
        "            elif user_input == \"-\":\n",
        "                result = num1 - num2\n",
        "            elif user_input == \"*\":\n",
        "                result = num1 * num2\n",
        "            elif user_input == \"/\":\n",
        "                result = num1 / num2\n",
        "            print(\"Result:\", result)\n",
        "        else:\n",
        "            print(\"Unknown input\")\n",
        "\n",
        "calculator()"
      ],
      "metadata": {
        "colab": {
          "base_uri": "https://localhost:8080/"
        },
        "id": "1Z-PeOt8Gdhe",
        "outputId": "18986647-c700-409d-faf9-870a695232db"
      },
      "execution_count": 67,
      "outputs": [
        {
          "name": "stdout",
          "output_type": "stream",
          "text": [
            "\n",
            "Enter an operation (+, -, *, /, or q to quit): \n",
            "+\n",
            "Enter a number: 1000\n",
            "Enter another number: 999\n",
            "Result: 1999.0\n",
            "\n",
            "Enter an operation (+, -, *, /, or q to quit): \n",
            "q\n"
          ]
        }
      ]
    },
    {
      "cell_type": "markdown",
      "source": [
        "Application 1: Create an Arithmetic Calculator (MDAS)"
      ],
      "metadata": {
        "id": "-I2nIc8iCBBA"
      }
    }
  ]
}