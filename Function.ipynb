{
  "nbformat": 4,
  "nbformat_minor": 0,
  "metadata": {
    "colab": {
      "provenance": [],
      "authorship_tag": "ABX9TyNuMnDWjSO0GBWrJ66lahrR",
      "include_colab_link": true
    },
    "kernelspec": {
      "name": "python3",
      "display_name": "Python 3"
    },
    "language_info": {
      "name": "python"
    }
  },
  "cells": [
    {
      "cell_type": "markdown",
      "metadata": {
        "id": "view-in-github",
        "colab_type": "text"
      },
      "source": [
        "<a href=\"https://colab.research.google.com/github/ChristianPacurib/OOP-58002/blob/main/Function.ipynb\" target=\"_parent\"><img src=\"https://colab.research.google.com/assets/colab-badge.svg\" alt=\"Open In Colab\"/></a>"
      ]
    },
    {
      "cell_type": "markdown",
      "source": [],
      "metadata": {
        "id": "gtleUPcUzpwi"
      }
    },
    {
      "cell_type": "code",
      "execution_count": null,
      "metadata": {
        "colab": {
          "base_uri": "https://localhost:8080/"
        },
        "id": "2MA9l71Czkvl",
        "outputId": "4168e444-9f85-4cd2-9030-2f09f692a6a6"
      },
      "outputs": [
        {
          "output_type": "execute_result",
          "data": {
            "text/plain": [
              "50"
            ]
          },
          "metadata": {},
          "execution_count": 12
        }
      ],
      "source": [
        "class Shape:\n",
        "  def __init__(self, length, width):\n",
        "    self.length =length\n",
        "    self.width = width\n",
        "    \n",
        "  def area_rec(self):\n",
        "    return self.length * self.width\n",
        "#def area_sqr(self):\n",
        " # return self.side * self.side\n",
        "\n",
        "rectangle = Shape(10,5)\n",
        "rectangle.area_rec() \n",
        "\n",
        "\n"
      ]
    },
    {
      "cell_type": "markdown",
      "source": [
        "create a function that will display your full name then the name of your class as a person"
      ],
      "metadata": {
        "id": "Y26phV6t3cCH"
      }
    },
    {
      "cell_type": "code",
      "source": [
        "class Person:\n",
        "  def __init__(self,Age, Name1, Name2, Surname):\n",
        "    self.Age = Age\n",
        "    self.Name1 = Name1\n",
        "    self.Name2 = Name2\n",
        "    self.Surname = Surname\n",
        "    \n",
        "user = Person(19, \"Christian\",\"Jerome\",\"Pacurib\")\n",
        "\n",
        "print(user.Name1 , user.Name2 , user.Surname,user.Age)\n"
      ],
      "metadata": {
        "id": "2o2qB9qs9wF0",
        "colab": {
          "base_uri": "https://localhost:8080/"
        },
        "outputId": "d491f630-de09-4fc3-970d-1e926b20ac6b"
      },
      "execution_count": 7,
      "outputs": [
        {
          "output_type": "stream",
          "name": "stdout",
          "text": [
            "Christian Jerome Pacurib 19\n"
          ]
        }
      ]
    }
  ]
}