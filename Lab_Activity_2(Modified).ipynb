{
  "nbformat": 4,
  "nbformat_minor": 0,
  "metadata": {
    "colab": {
      "provenance": [],
      "authorship_tag": "ABX9TyPNlcwU5ajSviBrxNbQBt/Y",
      "include_colab_link": true
    },
    "kernelspec": {
      "name": "python3",
      "display_name": "Python 3"
    },
    "language_info": {
      "name": "python"
    }
  },
  "cells": [
    {
      "cell_type": "markdown",
      "metadata": {
        "id": "view-in-github",
        "colab_type": "text"
      },
      "source": [
        "<a href=\"https://colab.research.google.com/github/ChristianPacurib/OOP-58002/blob/main/Lab_Activity_2(Modified).ipynb\" target=\"_parent\"><img src=\"https://colab.research.google.com/assets/colab-badge.svg\" alt=\"Open In Colab\"/></a>"
      ]
    },
    {
      "cell_type": "code",
      "execution_count": 5,
      "metadata": {
        "colab": {
          "base_uri": "https://localhost:8080/"
        },
        "id": "paMoFTDF2hcV",
        "outputId": "fe0803d6-a543-4e6d-d21b-0b0a367758fb"
      },
      "outputs": [
        {
          "output_type": "stream",
          "name": "stdout",
          "text": [
            "Enter the radius of the cirlce: 1\n",
            "Area:  3.14\n",
            "Perimeter:  6.28\n"
          ]
        }
      ],
      "source": [
        "class Circle():\n",
        "    def __init__(self, radius):\n",
        "        self.radius = radius\n",
        "\n",
        "    def area(self):\n",
        "      return self.radius**2*3.14\n",
        "\n",
        "    def perimeter(self):\n",
        "      return 2*self.radius*3.14\n",
        "    def display(self):\n",
        "      print(\"Area: \",self.area())\n",
        "      print(\"Perimeter: \", self.perimeter())\n",
        "\n",
        "\n",
        "radius = float(input(\"Enter the radius of the cirlce: \"))\n",
        "circle = Circle(radius)\n",
        "circle.display()"
      ]
    }
  ]
}