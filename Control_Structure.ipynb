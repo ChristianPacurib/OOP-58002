{
  "nbformat": 4,
  "nbformat_minor": 0,
  "metadata": {
    "colab": {
      "provenance": [],
      "authorship_tag": "ABX9TyOVBVNw2ixVkm2cJp7z55ci",
      "include_colab_link": true
    },
    "kernelspec": {
      "name": "python3",
      "display_name": "Python 3"
    },
    "language_info": {
      "name": "python"
    }
  },
  "cells": [
    {
      "cell_type": "markdown",
      "metadata": {
        "id": "view-in-github",
        "colab_type": "text"
      },
      "source": [
        "<a href=\"https://colab.research.google.com/github/ChristianPacurib/OOP-58002/blob/main/Control_Structure.ipynb\" target=\"_parent\"><img src=\"https://colab.research.google.com/assets/colab-badge.svg\" alt=\"Open In Colab\"/></a>"
      ]
    },
    {
      "cell_type": "markdown",
      "source": [
        "If statement "
      ],
      "metadata": {
        "id": "dcS7wSbx-dWp"
      }
    },
    {
      "cell_type": "code",
      "execution_count": 10,
      "metadata": {
        "colab": {
          "base_uri": "https://localhost:8080/"
        },
        "id": "AGR61h4w9YKV",
        "outputId": "a2d757a0-6040-4f8f-a02d-594dc9ba24e8"
      },
      "outputs": [
        {
          "output_type": "stream",
          "name": "stdout",
          "text": [
            "a is less than b\n"
          ]
        }
      ],
      "source": [
        "#IF statement \n",
        "a = 50 \n",
        "b = 100 \n",
        "if a<b: \n",
        "  print(\"a is less than b\")"
      ]
    },
    {
      "cell_type": "markdown",
      "source": [
        "Elif Statement"
      ],
      "metadata": {
        "id": "LV_CHXrF-iGJ"
      }
    },
    {
      "cell_type": "code",
      "source": [
        "#Elif statement\n",
        "a = 12 \n",
        "b = 12\n",
        "if b>a: \n",
        "   print(\"b is greater than a\")\n",
        "elif a==b: \n",
        "  print(\"a is equal to b\")"
      ],
      "metadata": {
        "colab": {
          "base_uri": "https://localhost:8080/"
        },
        "id": "uP4eGn21-VUC",
        "outputId": "aeba85d5-6900-4070-965e-b6e66090632c"
      },
      "execution_count": 11,
      "outputs": [
        {
          "output_type": "stream",
          "name": "stdout",
          "text": [
            "a is equal to b\n"
          ]
        }
      ]
    },
    {
      "cell_type": "markdown",
      "source": [
        "Else Statement"
      ],
      "metadata": {
        "id": "VLyyTA6Z-pOB"
      }
    },
    {
      "cell_type": "code",
      "source": [
        "#Else statement\n",
        "a = 200 \n",
        "b=30\n",
        "if b>a: \n",
        "   print(\"b is greater than a\")\n",
        "elif a==b:\n",
        "  print(\"a is equal to b\")\n",
        "else:\n",
        "  print(\"a is greater than b\")"
      ],
      "metadata": {
        "colab": {
          "base_uri": "https://localhost:8080/"
        },
        "id": "F7neY3vf-Vm5",
        "outputId": "da872566-ca90-4317-dc45-908ee90e9a9c"
      },
      "execution_count": 12,
      "outputs": [
        {
          "output_type": "stream",
          "name": "stdout",
          "text": [
            "a is greater than b\n"
          ]
        }
      ]
    },
    {
      "cell_type": "markdown",
      "source": [
        "Short Hand if Statement"
      ],
      "metadata": {
        "id": "9ox7Mxkr-tRx"
      }
    },
    {
      "cell_type": "code",
      "source": [
        "#short hand if statement \n",
        "a = 5 \n",
        "b = 5 \n",
        "if a==b: print(\"a is equal to b\")\n"
      ],
      "metadata": {
        "colab": {
          "base_uri": "https://localhost:8080/"
        },
        "id": "HDnPfOx--V5C",
        "outputId": "e148481a-2416-4558-ce93-db1a91f74c2b"
      },
      "execution_count": 13,
      "outputs": [
        {
          "output_type": "stream",
          "name": "stdout",
          "text": [
            "a is equal to b\n"
          ]
        }
      ]
    },
    {
      "cell_type": "markdown",
      "source": [
        "Short hand If Else statement"
      ],
      "metadata": {
        "id": "O89F8-60-w15"
      }
    },
    {
      "cell_type": "code",
      "source": [
        "a = 2 \n",
        "b = 330 \n",
        "print(\"A\")if a > b else print(\"B\")\n"
      ],
      "metadata": {
        "colab": {
          "base_uri": "https://localhost:8080/"
        },
        "id": "lErmH-4I-ZQx",
        "outputId": "fc46c32e-186a-4270-ee00-6d6e24f526fa"
      },
      "execution_count": 14,
      "outputs": [
        {
          "output_type": "stream",
          "name": "stdout",
          "text": [
            "B\n"
          ]
        }
      ]
    },
    {
      "cell_type": "markdown",
      "source": [
        "And-Both conditions are true"
      ],
      "metadata": {
        "id": "ruaa5grr-zgy"
      }
    },
    {
      "cell_type": "code",
      "source": [
        "a = 200 \n",
        "b = 33 \n",
        "c = 500 \n",
        "if a > b and c > a: \n",
        "  print(\"Both conditions are True \")\n",
        "  "
      ],
      "metadata": {
        "colab": {
          "base_uri": "https://localhost:8080/"
        },
        "id": "scPsvSq6-Zhq",
        "outputId": "5f0365c2-bf7f-421d-9204-98fdc8c39965"
      },
      "execution_count": 15,
      "outputs": [
        {
          "output_type": "stream",
          "name": "stdout",
          "text": [
            "Both conditions are True \n"
          ]
        }
      ]
    },
    {
      "cell_type": "markdown",
      "source": [
        "Or-at least one of the conditions is true \n"
      ],
      "metadata": {
        "id": "mtesw-w5-18Z"
      }
    },
    {
      "cell_type": "code",
      "source": [
        "a = 200 \n",
        "b = 33 \n",
        "c = 500 \n",
        "if a > b or a > c: \n",
        "  print(\"at least one of the conditions is True\")"
      ],
      "metadata": {
        "colab": {
          "base_uri": "https://localhost:8080/"
        },
        "id": "-m4_d_md-ZvJ",
        "outputId": "8acfceab-22f6-4364-dc37-5536be85d0f1"
      },
      "execution_count": 6,
      "outputs": [
        {
          "output_type": "stream",
          "name": "stdout",
          "text": [
            "at least one of the conditions is True\n"
          ]
        }
      ]
    },
    {
      "cell_type": "markdown",
      "source": [
        "Nested If"
      ],
      "metadata": {
        "id": "uoN1ljz5-5Yj"
      }
    },
    {
      "cell_type": "code",
      "source": [
        "x = 41 \n",
        "\n",
        "if x>10: \n",
        "  print(\"above ten,\")\n",
        "if x>20: \n",
        "  print(\"and also above 20!\")\n",
        "else:\n",
        "  print(\"but not above 20\")"
      ],
      "metadata": {
        "colab": {
          "base_uri": "https://localhost:8080/"
        },
        "id": "BMyofIUC-Z8b",
        "outputId": "b49d963c-5719-4d00-baeb-c7cdf64a45d9"
      },
      "execution_count": 3,
      "outputs": [
        {
          "output_type": "stream",
          "name": "stdout",
          "text": [
            "above ten,\n",
            "and also above 20!\n"
          ]
        }
      ]
    },
    {
      "cell_type": "code",
      "source": [
        "x = float(input())\n",
        "if x > 10:\n",
        "  print(\"above 10\")\n",
        "  if x > 20:\n",
        "    print(\"above 20\")\n",
        "    if x > 30: \n",
        "      print(\"above 30\")\n",
        "      if x > 40: \n",
        "        print(\"above 40\")\n",
        "        if x > 50: \n",
        "          print(\"above 50\")\n",
        "        else:\n",
        "          print(\"below 50\")\n",
        "      else:\n",
        "        print(\"below 40\")\n",
        "    else:\n",
        "      print(\"below 30\")\n",
        "  else: \n",
        "    print(\"below 20\")\n",
        "else: \n",
        "  print(\"below 10\")"
      ],
      "metadata": {
        "colab": {
          "base_uri": "https://localhost:8080/"
        },
        "id": "qEGTXT7H-aJa",
        "outputId": "9807e134-fdc6-4a1c-9446-e42835432895"
      },
      "execution_count": 4,
      "outputs": [
        {
          "output_type": "stream",
          "name": "stdout",
          "text": [
            "100\n",
            "above 10\n",
            "above 20\n",
            "above 30\n",
            "above 40\n",
            "above 50\n"
          ]
        }
      ]
    },
    {
      "cell_type": "markdown",
      "source": [
        "Example 1: Write a program that determines if the input ageis qualified to vote or not. The qualifying age is18 years old and above."
      ],
      "metadata": {
        "id": "mF2pfpZV_Elx"
      }
    },
    {
      "cell_type": "code",
      "source": [
        "x = float(input())\n",
        "\n",
        "if x >= 18:\n",
        "  print(\"you are qualified to vote\")\n",
        "else: \n",
        "  print(\"you are not qualified to vote\")"
      ],
      "metadata": {
        "colab": {
          "base_uri": "https://localhost:8080/"
        },
        "id": "giCD71tN-aUa",
        "outputId": "84f56626-b89a-45be-dea0-7bb84ee7ea6d"
      },
      "execution_count": 5,
      "outputs": [
        {
          "output_type": "stream",
          "name": "stdout",
          "text": [
            "10\n",
            "you are not qualified to vote\n"
          ]
        }
      ]
    },
    {
      "cell_type": "markdown",
      "source": [
        "Example 2 • Write a program that determines if the inputnumber is POSITIVE, NEGATIVE, or ZERO"
      ],
      "metadata": {
        "id": "nAPFISXy_J1Z"
      }
    },
    {
      "cell_type": "code",
      "source": [
        "Num = float(input())\n",
        "\n",
        "if Num > 0:\n",
        "  print(\"number is positive\")\n",
        "elif Num==0: \n",
        "  print(\"number is zero\")\n",
        "else: \n",
        "  print(\"number is negative\")"
      ],
      "metadata": {
        "colab": {
          "base_uri": "https://localhost:8080/"
        },
        "id": "zlJvMlEj-akr",
        "outputId": "21b3ed24-ef42-4f83-e371-820d027197b4"
      },
      "execution_count": 2,
      "outputs": [
        {
          "output_type": "stream",
          "name": "stdout",
          "text": [
            "-69\n",
            "number is negative\n"
          ]
        }
      ]
    },
    {
      "cell_type": "code",
      "source": [
        "Grade = float(input())\n",
        "if Grade >= 70: \n",
        "  print(\"you passed\")\n",
        "elif Grade < 0:\n",
        "  print(\"number is invalid\")\n",
        "elif Grade <=64: \n",
        "  print(\"you failed\")\n",
        "else: \n",
        "  print(\"you will have remedial\")"
      ],
      "metadata": {
        "colab": {
          "base_uri": "https://localhost:8080/"
        },
        "id": "p4cIDZuU-a5i",
        "outputId": "7e54cfb0-cf1d-4793-fb15-36fdfd9a5e98"
      },
      "execution_count": 1,
      "outputs": [
        {
          "output_type": "stream",
          "name": "stdout",
          "text": [
            "75\n",
            "you passed\n"
          ]
        }
      ]
    }
  ]
}