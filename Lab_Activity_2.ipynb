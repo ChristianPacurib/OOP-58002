{
  "nbformat": 4,
  "nbformat_minor": 0,
  "metadata": {
    "colab": {
      "provenance": [],
      "authorship_tag": "ABX9TyP3g3umkmpwTbI1qrbG4dGp",
      "include_colab_link": true
    },
    "kernelspec": {
      "name": "python3",
      "display_name": "Python 3"
    },
    "language_info": {
      "name": "python"
    }
  },
  "cells": [
    {
      "cell_type": "markdown",
      "metadata": {
        "id": "view-in-github",
        "colab_type": "text"
      },
      "source": [
        "<a href=\"https://colab.research.google.com/github/ChristianPacurib/OOP-58002/blob/main/Lab_Activity_2.ipynb\" target=\"_parent\"><img src=\"https://colab.research.google.com/assets/colab-badge.svg\" alt=\"Open In Colab\"/></a>"
      ]
    },
    {
      "cell_type": "code",
      "execution_count": null,
      "metadata": {
        "id": "eeoyrkDKaD5m"
      },
      "outputs": [],
      "source": []
    },
    {
      "cell_type": "code",
      "source": [
        "class Circle():\n",
        "    def __init__(self, radius):\n",
        "        self.radius = radius\n",
        "\n",
        "    def area(self):\n",
        "      return self.radius**2*3.14\n",
        "\n",
        "    def perimeter(self):\n",
        "      return 2*self.radius*3.14\n",
        "    def display(self):\n",
        "      print(\"The area of the circle is \",self.area(), \"The perimeter of the circle is\", self.perimeter())\n",
        "\n",
        "\n",
        "\n",
        "circle = Circle(1)\n",
        "print(circle.area())\n",
        "print(circle.perimeter())\n",
        "print(circle.display())"
      ],
      "metadata": {
        "colab": {
          "base_uri": "https://localhost:8080/"
        },
        "id": "VMqe0w7bb42p",
        "outputId": "6f4c0c1e-d507-42f8-98d6-7bfe9bbaabe3"
      },
      "execution_count": 16,
      "outputs": [
        {
          "output_type": "stream",
          "name": "stdout",
          "text": [
            "3.14\n",
            "6.28\n",
            "The area of the circle is  3.14 The perimeter of the circle is 6.28\n",
            "None\n"
          ]
        }
      ]
    }
  ]
}