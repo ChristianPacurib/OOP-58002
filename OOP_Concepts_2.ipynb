{
  "nbformat": 4,
  "nbformat_minor": 0,
  "metadata": {
    "colab": {
      "provenance": [],
      "authorship_tag": "ABX9TyNwIKU9RgSQ3GSOTPETnyUr",
      "include_colab_link": true
    },
    "kernelspec": {
      "name": "python3",
      "display_name": "Python 3"
    },
    "language_info": {
      "name": "python"
    }
  },
  "cells": [
    {
      "cell_type": "markdown",
      "metadata": {
        "id": "view-in-github",
        "colab_type": "text"
      },
      "source": [
        "<a href=\"https://colab.research.google.com/github/ChristianPacurib/OOP-58002/blob/main/OOP_Concepts_2.ipynb\" target=\"_parent\"><img src=\"https://colab.research.google.com/assets/colab-badge.svg\" alt=\"Open In Colab\"/></a>"
      ]
    },
    {
      "cell_type": "code",
      "source": [
        "class foo:\n",
        "  def __init__(self,a,b):\n",
        "    self.a = a\n",
        "    self.b = b\n",
        "  def add(self):\n",
        "    return self.a + self.b\n",
        "\n",
        "\n",
        "foo_object = foo(3,4)\n",
        "foo_object.add()\n"
      ],
      "metadata": {
        "colab": {
          "base_uri": "https://localhost:8080/"
        },
        "id": "j7aZ5f5v6wp3",
        "outputId": "43214dfd-dcfb-4eec-b43f-6fd5ad6849a4"
      },
      "execution_count": 3,
      "outputs": [
        {
          "output_type": "execute_result",
          "data": {
            "text/plain": [
              "7"
            ]
          },
          "metadata": {},
          "execution_count": 3
        }
      ]
    },
    {
      "cell_type": "code",
      "source": [
        "#class with multiple objects\n",
        "class birds:\n",
        "  def __init__(self,name_birds):\n",
        "    self.name_birds = name_birds \n",
        "  def flying_birds(self):\n",
        "    print(f\"The {self.name_birds} is the flying bird above the sky\")\n",
        "  def non_flying_birds(self):\n",
        "    print(f\"The {self.name_birds} is the non flying bird\")\n",
        "\n",
        "eagle = birds(\"Eagle\")\n",
        "chicken = birds(\"Chicken\")\n",
        "eagle.flying_birds()\n",
        "chicken.non_flying_birds()"
      ],
      "metadata": {
        "colab": {
          "base_uri": "https://localhost:8080/"
        },
        "id": "nk3NK1MV9cFS",
        "outputId": "a3e6aebf-f9c6-4b6c-bc6c-86df0719262a"
      },
      "execution_count": 7,
      "outputs": [
        {
          "output_type": "stream",
          "name": "stdout",
          "text": [
            "The Eagle is the flying bird above the sky\n",
            "The Chicken is the non flying bird\n"
          ]
        }
      ]
    },
    {
      "cell_type": "code",
      "source": [
        "#Encapsulation\n",
        "\n",
        "class foo:\n",
        "  def __init__(self,a,b):\n",
        "    self.__a = a\n",
        "    self.__b = b\n",
        "  def add(self):\n",
        "    return self.__a + self.__b\n",
        "\n",
        "\n",
        "foo_object = foo(3,4)\n",
        "foo_object.add()\n",
        "foo_object.a = 6\n",
        "foo_object.b = 7\n",
        "foo_object.add()\n"
      ],
      "metadata": {
        "colab": {
          "base_uri": "https://localhost:8080/"
        },
        "id": "pat9v7lu_CKC",
        "outputId": "fc2c610c-790a-4684-b6db-eff1b8d1a428"
      },
      "execution_count": 10,
      "outputs": [
        {
          "output_type": "execute_result",
          "data": {
            "text/plain": [
              "7"
            ]
          },
          "metadata": {},
          "execution_count": 10
        }
      ]
    },
    {
      "cell_type": "code",
      "source": [
        "#inheritance\n",
        "class Person:\n",
        "  def __init__(self,name,birthday):\n",
        "    self.name = name\n",
        "    self.birthday = birthday\n",
        "  def display(self):\n",
        "    print(\"My name is\" , self.name)\n",
        "    print(\"My birthday is \", self.birthday)\n",
        "class Student(Person):\n",
        "  pass\n",
        "\n",
        "person = Person(\"Christian Jerome\",\"November 17,2003\")\n",
        "person.display()\n",
        "\n",
        "student = Person(\"Ana\", \"March 14, 1991\")\n",
        "student.display()"
      ],
      "metadata": {
        "colab": {
          "base_uri": "https://localhost:8080/"
        },
        "id": "SEOYlAfGAwLg",
        "outputId": "3abf34f2-d158-4f50-e803-c6d0edf4d1b4"
      },
      "execution_count": 13,
      "outputs": [
        {
          "output_type": "stream",
          "name": "stdout",
          "text": [
            "My name is Christian Jerome\n",
            "My birthday is  November 17,2003\n",
            "My name is Ana\n",
            "My birthday is  March 14, 1991\n"
          ]
        }
      ]
    },
    {
      "cell_type": "code",
      "source": [
        "#Application\n",
        "class Shapes:\n",
        "  def __init__(self,side):\n",
        "    self.__side = side\n",
        "  def display(self):\n",
        "    print(\"The number of sides for this shape is\" , self.__side)\n",
        "class Hendecagon(Shapes):\n",
        "  pass\n",
        "class Decagon(Shapes):\n",
        "  pass\n",
        "class Nonagon(Shapes):\n",
        "  pass\n",
        "class Octagon(Shapes):\n",
        "  pass\n",
        "class Heptagon(Shapes):\n",
        "  pass\n",
        "\n",
        "shapes = Shapes(\"n\")\n",
        "shapes.display()\n",
        "\n",
        "hendecagon = Hendecagon(\"11\")\n",
        "hendecagon.display()\n",
        "\n",
        "decagon = Decagon(\"10\")\n",
        "decagon.display()\n",
        "\n",
        "nonagon = Nonagon(\"9\")\n",
        "nonagon.display()\n",
        "\n",
        "octagon = Ocatagon(\"8\")\n",
        "octagon.display()\n",
        "\n",
        "heptagon = Heptagon(\"7\")\n",
        "heptagon.display()"
      ],
      "metadata": {
        "colab": {
          "base_uri": "https://localhost:8080/"
        },
        "id": "T4xVKbrWC8zp",
        "outputId": "59df45eb-a2c6-4c87-ab0d-a02828e4468f"
      },
      "execution_count": 18,
      "outputs": [
        {
          "output_type": "stream",
          "name": "stdout",
          "text": [
            "The number of sides for this shape is n\n",
            "The number of sides for this shape is 11\n",
            "The number of sides for this shape is 10\n",
            "The number of sides for this shape is 9\n",
            "The number of sides for this shap is 8\n",
            "The number of sides for this shape is 7\n"
          ]
        }
      ]
    }
  ]
}