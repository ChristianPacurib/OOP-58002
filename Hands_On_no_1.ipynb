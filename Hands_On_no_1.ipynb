{
  "nbformat": 4,
  "nbformat_minor": 0,
  "metadata": {
    "colab": {
      "provenance": [],
      "authorship_tag": "ABX9TyMAMQKV47RvLlHeVPfIgjMv",
      "include_colab_link": true
    },
    "kernelspec": {
      "name": "python3",
      "display_name": "Python 3"
    },
    "language_info": {
      "name": "python"
    }
  },
  "cells": [
    {
      "cell_type": "markdown",
      "metadata": {
        "id": "view-in-github",
        "colab_type": "text"
      },
      "source": [
        "<a href=\"https://colab.research.google.com/github/ChristianPacurib/OOP-58002/blob/main/Hands_On_no_1.ipynb\" target=\"_parent\"><img src=\"https://colab.research.google.com/assets/colab-badge.svg\" alt=\"Open In Colab\"/></a>"
      ]
    },
    {
      "cell_type": "markdown",
      "source": [
        "Hands-No.1"
      ],
      "metadata": {
        "id": "8kcbXDPK-J5O"
      }
    },
    {
      "cell_type": "code",
      "source": [
        "class Person:\n",
        "  def __init__(self, pre, mid, fin,):\n",
        "    self.__pre = pre\n",
        "    self.__mid = mid\n",
        "    self.__fin = fin\n",
        "  def grade(self):\n",
        "    return(self.__pre + self.__mid + self.__fin)/3\n",
        "\n",
        "class Student1(Person):\n",
        "  pass\n",
        "class Student2(Person):\n",
        "  pass\n",
        "class Student3(Person):\n",
        "  pass\n",
        "\n",
        "std1 = Student1(89, 90, 93)\n",
        "std2 = Student2(80, 85, 90)\n",
        "std3 = Student3(87, 86, 89)\n",
        "\n",
        "print(\"Astherielle(student 1)'s Average is\",std1.grade())\n",
        "print(\"Christian(student 2)'s Average is\",std2.grade())\n",
        "print(\"John(student 3)'s Average is\",std3.grade())\n"
      ],
      "metadata": {
        "colab": {
          "base_uri": "https://localhost:8080/"
        },
        "id": "XYof3WzI-JtW",
        "outputId": "126887cf-aa86-4a84-c844-57c8008f3f0c"
      },
      "execution_count": 29,
      "outputs": [
        {
          "output_type": "stream",
          "name": "stdout",
          "text": [
            "Astherielle(student 1)'s Average is 90.66666666666667\n",
            "Christian(student 2)'s Average is 85.0\n",
            "John(student 3)'s Average is 87.33333333333333\n"
          ]
        }
      ]
    }
  ]
}