{
  "nbformat": 4,
  "nbformat_minor": 0,
  "metadata": {
    "colab": {
      "provenance": [],
      "authorship_tag": "ABX9TyO+4J7rFq5D1LDRO1KvA50d",
      "include_colab_link": true
    },
    "kernelspec": {
      "name": "python3",
      "display_name": "Python 3"
    },
    "language_info": {
      "name": "python"
    }
  },
  "cells": [
    {
      "cell_type": "markdown",
      "metadata": {
        "id": "view-in-github",
        "colab_type": "text"
      },
      "source": [
        "<a href=\"https://colab.research.google.com/github/ChristianPacurib/OOP-58002/blob/main/Hands_On_Number_1.ipynb\" target=\"_parent\"><img src=\"https://colab.research.google.com/assets/colab-badge.svg\" alt=\"Open In Colab\"/></a>"
      ]
    },
    {
      "cell_type": "markdown",
      "source": [
        "Hands-No.1"
      ],
      "metadata": {
        "id": "8kcbXDPK-J5O"
      }
    },
    {
      "cell_type": "code",
      "source": [
        "class Person:\n",
        "  def __init__(self, pre, mid, fin,):\n",
        "    self.__pre = pre\n",
        "    self.__mid = mid\n",
        "    self.__fin = fin\n",
        "  def grade(self):\n",
        "    return(self.__pre + self.__mid + self.__fin)/3\n",
        "\n",
        "class Student1(Person):\n",
        "  pass\n",
        "class Student2(Person):\n",
        "  pass\n",
        "class Student3(Person):\n",
        "  pass\n",
        "\n",
        "std1 = Student1(89, 90, 93)\n",
        "std2 = Student2(80, 85, 90)\n",
        "std3 = Student3(87, 86, 89)\n",
        "\n",
        "print(\"student 1's Average is\",std1.grade())\n",
        "print(\"student 2's Average is\",std2.grade())\n",
        "print(\"student 3's Average is\",std3.grade())\n"
      ],
      "metadata": {
        "colab": {
          "base_uri": "https://localhost:8080/"
        },
        "id": "XYof3WzI-JtW",
        "outputId": "e93b7100-6226-4e3b-c33b-b2540dc4d593"
      },
      "execution_count": 28,
      "outputs": [
        {
          "output_type": "stream",
          "name": "stdout",
          "text": [
            "student 1's Average is 90.66666666666667\n",
            "student 2's Average is 85.0\n",
            "student 3's Average is 87.33333333333333\n"
          ]
        }
      ]
    }
  ]
}